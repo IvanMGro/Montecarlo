{
  "nbformat": 4,
  "nbformat_minor": 0,
  "metadata": {
    "colab": {
      "name": "montecarlo.ipynb",
      "provenance": [],
      "collapsed_sections": [],
      "authorship_tag": "ABX9TyOpzfT5n/B13s2K8foaNYO+",
      "include_colab_link": true
    },
    "kernelspec": {
      "name": "python3",
      "display_name": "Python 3"
    },
    "language_info": {
      "name": "python"
    }
  },
  "cells": [
    {
      "cell_type": "markdown",
      "metadata": {
        "id": "view-in-github",
        "colab_type": "text"
      },
      "source": [
        "<a href=\"https://colab.research.google.com/github/IvanMGro/montecarlo/blob/main/montecarlo.ipynb\" target=\"_parent\"><img src=\"https://colab.research.google.com/assets/colab-badge.svg\" alt=\"Open In Colab\"/></a>"
      ]
    },
    {
      "cell_type": "markdown",
      "metadata": {
        "id": "9a9yji4KJUG5"
      },
      "source": [
        "¿Cuál es la probabilidad de que dos personas cumplan el mismo día en un grupo de ```n``` personas?"
      ]
    },
    {
      "cell_type": "code",
      "metadata": {
        "id": "y_pmYGZdzJoT"
      },
      "source": [
        "import numpy as np\n",
        "\n",
        "def montecarlo(n_personas,iterations):\n",
        "\n",
        "    results = []\n",
        "   \n",
        "    for i in range(iterations):\n",
        "\n",
        "        #Cada elemento es una persona y su valor corresponde al dia que cumple años\n",
        "        bthday_list = [] \n",
        "        \n",
        "        #Para cada n persona asignamos un num aleatorio por persona (1,365)\n",
        "        for n in range(n_personas):\n",
        "            n_birth = np.random.randint(1,365)\n",
        "            bthday_list.append(n_birth)\n",
        "\n",
        "        #Obtenemos una lista sin repeticiones de cumpleaños\n",
        "        unique_list = list(set(bthday_list))      \n",
        "\n",
        "        #Cuando esta condicion se cumple implica que 2 personas o más coinciden\n",
        "        #Ejemplo: len[2,65,349,65] - len[2,65,349] =  1. Se cumple\n",
        "        if (len(bthday_list)-len(unique_list))>0: \n",
        "            true_match = 1\n",
        "        else:\n",
        "            true_match = 0\n",
        "        results.append(true_match)\n",
        "    \n",
        "    #probabilidad = cantidad_matches / num_iteraciones\n",
        "    pb = sum(results) / len(results)\n",
        "    \n",
        "    return pb"
      ],
      "execution_count": null,
      "outputs": []
    },
    {
      "cell_type": "markdown",
      "metadata": {
        "id": "caRftEYSKCZw"
      },
      "source": [
        "¿Cuál es la probabilidad de que 2 personas cumplan el \n",
        "mismo día en un grupo de 50 personas?"
      ]
    },
    {
      "cell_type": "code",
      "metadata": {
        "colab": {
          "base_uri": "https://localhost:8080/"
        },
        "id": "ygyARjrjCxtx",
        "outputId": "84b9feaf-427d-4b86-d909-2550883b6662"
      },
      "source": [
        "pb = montecarlo(50,10000)\n",
        "print(\"La probabilidad es del:\", pb*100, \"%\")"
      ],
      "execution_count": null,
      "outputs": [
        {
          "output_type": "stream",
          "name": "stdout",
          "text": [
            "La probabilidad es del: 97.2 %\n"
          ]
        }
      ]
    },
    {
      "cell_type": "markdown",
      "metadata": {
        "id": "bICj1CBFKWnx"
      },
      "source": [
        "Realizamos este experimento y graficamos sus resultados obteniendo la probabilidad ```pb``` en cada caso de ```n``` personas"
      ]
    },
    {
      "cell_type": "code",
      "metadata": {
        "colab": {
          "base_uri": "https://localhost:8080/",
          "height": 296
        },
        "id": "DKoDQMtYzTZc",
        "outputId": "5d09c4f1-27b7-4826-fe35-2a52b007fa32"
      },
      "source": [
        "fy = []\n",
        "fx = []\n",
        "\n",
        "#Vamos a correr 1000 veces el mismo experimento para 100 escenarios.\n",
        "#En cada escenario n+1 aumenta el numero de personas en el experimento\n",
        "\n",
        "for n in range(100)[1:]:\n",
        "    #Entre mayor es el número de iteraciones mayor es la precisión del gráfico\n",
        "    proby = montecarlo(n,2000) \n",
        "    probx = n                  \n",
        "    fy.append(proby)           \n",
        "    fx.append(probx)\n",
        "    \n",
        "#Graficamos los resultados\n",
        "import matplotlib.pyplot as plt\n",
        "plt.plot(fx,fy)\n",
        "plt.xlabel(\"n personas\")\n",
        "plt.ylabel(\"Prob %\")"
      ],
      "execution_count": null,
      "outputs": [
        {
          "output_type": "execute_result",
          "data": {
            "text/plain": [
              "Text(0, 0.5, 'Prob %')"
            ]
          },
          "metadata": {},
          "execution_count": 12
        },
        {
          "output_type": "display_data",
          "data": {
            "image/png": "[encoded data removed]",
            "text/plain": [
              "<Figure size 432x288 with 1 Axes>"
            ]
          },
          "metadata": {
            "needs_background": "light"
          }
        }
      ]
    }
  ]
}